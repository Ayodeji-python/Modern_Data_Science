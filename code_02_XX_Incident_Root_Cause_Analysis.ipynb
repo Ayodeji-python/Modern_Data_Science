{
  "nbformat": 4,
  "nbformat_minor": 0,
  "metadata": {
    "kernelspec": {
      "display_name": "Python 3",
      "language": "python",
      "name": "python3"
    },
    "language_info": {
      "codemirror_mode": {
        "name": "ipython",
        "version": 3
      },
      "file_extension": ".py",
      "mimetype": "text/x-python",
      "name": "python",
      "nbconvert_exporter": "python",
      "pygments_lexer": "ipython3",
      "version": "3.7.7"
    },
    "colab": {
      "name": "code_02_XX Incident Root Cause Analysis.ipynb",
      "provenance": [],
      "include_colab_link": true
    }
  },
  "cells": [
    {
      "cell_type": "markdown",
      "metadata": {
        "id": "view-in-github",
        "colab_type": "text"
      },
      "source": [
        "<a href=\"https://colab.research.google.com/github/Ayodeji-python/Modern_Data_Science/blob/master/code_02_XX_Incident_Root_Cause_Analysis.ipynb\" target=\"_parent\"><img src=\"https://colab.research.google.com/assets/colab-badge.svg\" alt=\"Open In Colab\"/></a>"
      ]
    },
    {
      "cell_type": "markdown",
      "metadata": {
        "id": "BIwYF9gyqZ4O"
      },
      "source": [
        "#  Incident Root Cause Analysis \n",
        "\n",
        "Incident Reports in ITOps usually states the symptoms. Identifying the root cause of the symptom quickly is a key determinant to reducing resolution times and improving user satisfaction."
      ]
    },
    {
      "cell_type": "code",
      "metadata": {
        "id": "V1vlE86cqZ4S",
        "outputId": "7e6f3514-2cdf-4fa8-c1bd-36d3747105f6"
      },
      "source": [
        "#Install all related packages. If you find additional packages missing, please follow the same technique.\n",
        "#If you are not using anaconda, then use pip to install the same packages\n",
        "\n",
        "import sys\n",
        "!conda install --yes --prefix {sys.prefix} pandas tensorflow scikit-learn"
      ],
      "execution_count": null,
      "outputs": [
        {
          "output_type": "stream",
          "text": [
            "Collecting package metadata (current_repodata.json): done\n",
            "Solving environment: failed with initial frozen solve. Retrying with flexible solve.\n",
            "Solving environment: failed with repodata from current_repodata.json, will retry with next repodata source.\n",
            "Collecting package metadata (repodata.json): done\n",
            "Solving environment: done\n",
            "\n",
            "\n",
            "==> WARNING: A newer version of conda exists. <==\n",
            "  current version: 4.8.2\n",
            "  latest version: 4.8.3\n",
            "\n",
            "Please update conda by running\n",
            "\n",
            "    $ conda update -n base -c defaults conda\n",
            "\n",
            "\n",
            "\n",
            "## Package Plan ##\n",
            "\n",
            "  environment location: /opt/anaconda3/envs/itops\n",
            "\n",
            "  added / updated specs:\n",
            "    - pandas\n",
            "    - scikit-learn\n",
            "    - tensorflow\n",
            "\n",
            "\n",
            "The following NEW packages will be INSTALLED:\n",
            "\n",
            "  _tflow_select      pkgs/main/osx-64::_tflow_select-2.3.0-mkl\n",
            "  absl-py            pkgs/main/osx-64::absl-py-0.9.0-py37_0\n",
            "  astor              pkgs/main/osx-64::astor-0.8.0-py37_0\n",
            "  blas               pkgs/main/osx-64::blas-1.0-mkl\n",
            "  c-ares             pkgs/main/osx-64::c-ares-1.15.0-h1de35cc_1001\n",
            "  gast               pkgs/main/osx-64::gast-0.2.2-py37_0\n",
            "  google-pasta       pkgs/main/noarch::google-pasta-0.2.0-py_0\n",
            "  grpcio             pkgs/main/osx-64::grpcio-1.16.1-py37h044775b_1\n",
            "  h5py               pkgs/main/osx-64::h5py-2.10.0-py37h3134771_0\n",
            "  hdf5               pkgs/main/osx-64::hdf5-1.10.4-hfa1e0ec_0\n",
            "  intel-openmp       pkgs/main/osx-64::intel-openmp-2019.4-233\n",
            "  joblib             pkgs/main/noarch::joblib-0.15.1-py_0\n",
            "  keras-applications pkgs/main/noarch::keras-applications-1.0.8-py_0\n",
            "  keras-preprocessi~ pkgs/main/noarch::keras-preprocessing-1.1.0-py_1\n",
            "  libgfortran        pkgs/main/osx-64::libgfortran-3.0.1-h93005f0_2\n",
            "  libprotobuf        pkgs/main/osx-64::libprotobuf-3.11.4-hd9629dc_0\n",
            "  llvm-openmp        pkgs/main/osx-64::llvm-openmp-10.0.0-h28b9765_0\n",
            "  markdown           pkgs/main/osx-64::markdown-3.1.1-py37_0\n",
            "  mkl                pkgs/main/osx-64::mkl-2019.4-233\n",
            "  mkl-service        pkgs/main/osx-64::mkl-service-2.3.0-py37hfbe908c_0\n",
            "  mkl_fft            pkgs/main/osx-64::mkl_fft-1.0.15-py37h5e564d8_0\n",
            "  mkl_random         pkgs/main/osx-64::mkl_random-1.1.1-py37h959d312_0\n",
            "  numpy              pkgs/main/osx-64::numpy-1.18.1-py37h7241aed_0\n",
            "  numpy-base         pkgs/main/osx-64::numpy-base-1.18.1-py37h3304bdc_1\n",
            "  opt_einsum         pkgs/main/noarch::opt_einsum-3.1.0-py_0\n",
            "  pandas             pkgs/main/osx-64::pandas-1.0.3-py37h6c726b0_0\n",
            "  protobuf           pkgs/main/osx-64::protobuf-3.11.4-py37h0a44026_0\n",
            "  pytz               pkgs/main/noarch::pytz-2020.1-py_0\n",
            "  scikit-learn       pkgs/main/osx-64::scikit-learn-0.22.1-py37h27c97d8_0\n",
            "  scipy              pkgs/main/osx-64::scipy-1.4.1-py37h9fa6033_0\n",
            "  tensorboard        pkgs/main/noarch::tensorboard-2.0.0-pyhb38c66f_1\n",
            "  tensorflow         pkgs/main/osx-64::tensorflow-2.0.0-mkl_py37hda344b4_0\n",
            "  tensorflow-base    pkgs/main/osx-64::tensorflow-base-2.0.0-mkl_py37h66b1bf0_0\n",
            "  tensorflow-estima~ pkgs/main/noarch::tensorflow-estimator-2.0.0-pyh2649769_0\n",
            "  termcolor          pkgs/main/osx-64::termcolor-1.1.0-py37_1\n",
            "  werkzeug           pkgs/main/noarch::werkzeug-1.0.1-py_0\n",
            "  wrapt              pkgs/main/osx-64::wrapt-1.12.1-py37h1de35cc_1\n",
            "\n",
            "\n",
            "Preparing transaction: done\n",
            "Verifying transaction: done\n",
            "Executing transaction: done\n"
          ],
          "name": "stdout"
        }
      ]
    },
    {
      "cell_type": "markdown",
      "metadata": {
        "id": "oKZTVQaNqZ4T"
      },
      "source": [
        "# 02.04. Preprocessing Incident Data\n",
        "\n",
        "### Loading the Dataset"
      ]
    },
    {
      "cell_type": "code",
      "metadata": {
        "scrolled": true,
        "colab": {
          "base_uri": "https://localhost:8080/",
          "height": 371
        },
        "id": "Y1SBlg-NqZ4U",
        "outputId": "7129cd77-3b84-453f-b36f-747787be7ee6"
      },
      "source": [
        "import pandas as pd\n",
        "import os\n",
        "import tensorflow as tf\n",
        "\n",
        "#Load the data file into a Pandas Dataframe\n",
        "symptom_data = pd.read_csv(\"root_cause_analysis.csv\")\n",
        "\n",
        "#Explore the data loaded\n",
        "print(symptom_data.dtypes)\n",
        "symptom_data.head()"
      ],
      "execution_count": 2,
      "outputs": [
        {
          "output_type": "stream",
          "text": [
            "ID              int64\n",
            "CPU_LOAD        int64\n",
            "MEMORY_LOAD     int64\n",
            "DELAY           int64\n",
            "ERROR_1000      int64\n",
            "ERROR_1001      int64\n",
            "ERROR_1002      int64\n",
            "ERROR_1003      int64\n",
            "ROOT_CAUSE     object\n",
            "dtype: object\n"
          ],
          "name": "stdout"
        },
        {
          "output_type": "execute_result",
          "data": {
            "text/html": [
              "<div>\n",
              "<style scoped>\n",
              "    .dataframe tbody tr th:only-of-type {\n",
              "        vertical-align: middle;\n",
              "    }\n",
              "\n",
              "    .dataframe tbody tr th {\n",
              "        vertical-align: top;\n",
              "    }\n",
              "\n",
              "    .dataframe thead th {\n",
              "        text-align: right;\n",
              "    }\n",
              "</style>\n",
              "<table border=\"1\" class=\"dataframe\">\n",
              "  <thead>\n",
              "    <tr style=\"text-align: right;\">\n",
              "      <th></th>\n",
              "      <th>ID</th>\n",
              "      <th>CPU_LOAD</th>\n",
              "      <th>MEMORY_LOAD</th>\n",
              "      <th>DELAY</th>\n",
              "      <th>ERROR_1000</th>\n",
              "      <th>ERROR_1001</th>\n",
              "      <th>ERROR_1002</th>\n",
              "      <th>ERROR_1003</th>\n",
              "      <th>ROOT_CAUSE</th>\n",
              "    </tr>\n",
              "  </thead>\n",
              "  <tbody>\n",
              "    <tr>\n",
              "      <th>0</th>\n",
              "      <td>1</td>\n",
              "      <td>0</td>\n",
              "      <td>0</td>\n",
              "      <td>0</td>\n",
              "      <td>0</td>\n",
              "      <td>1</td>\n",
              "      <td>0</td>\n",
              "      <td>1</td>\n",
              "      <td>MEMORY</td>\n",
              "    </tr>\n",
              "    <tr>\n",
              "      <th>1</th>\n",
              "      <td>2</td>\n",
              "      <td>0</td>\n",
              "      <td>0</td>\n",
              "      <td>0</td>\n",
              "      <td>0</td>\n",
              "      <td>0</td>\n",
              "      <td>0</td>\n",
              "      <td>1</td>\n",
              "      <td>MEMORY</td>\n",
              "    </tr>\n",
              "    <tr>\n",
              "      <th>2</th>\n",
              "      <td>3</td>\n",
              "      <td>0</td>\n",
              "      <td>1</td>\n",
              "      <td>1</td>\n",
              "      <td>0</td>\n",
              "      <td>0</td>\n",
              "      <td>1</td>\n",
              "      <td>1</td>\n",
              "      <td>MEMORY</td>\n",
              "    </tr>\n",
              "    <tr>\n",
              "      <th>3</th>\n",
              "      <td>4</td>\n",
              "      <td>0</td>\n",
              "      <td>1</td>\n",
              "      <td>0</td>\n",
              "      <td>1</td>\n",
              "      <td>1</td>\n",
              "      <td>0</td>\n",
              "      <td>1</td>\n",
              "      <td>MEMORY</td>\n",
              "    </tr>\n",
              "    <tr>\n",
              "      <th>4</th>\n",
              "      <td>5</td>\n",
              "      <td>1</td>\n",
              "      <td>1</td>\n",
              "      <td>0</td>\n",
              "      <td>1</td>\n",
              "      <td>0</td>\n",
              "      <td>1</td>\n",
              "      <td>0</td>\n",
              "      <td>NETWORK_DELAY</td>\n",
              "    </tr>\n",
              "  </tbody>\n",
              "</table>\n",
              "</div>"
            ],
            "text/plain": [
              "   ID  CPU_LOAD  MEMORY_LOAD  ...  ERROR_1002  ERROR_1003     ROOT_CAUSE\n",
              "0   1         0            0  ...           0           1         MEMORY\n",
              "1   2         0            0  ...           0           1         MEMORY\n",
              "2   3         0            1  ...           1           1         MEMORY\n",
              "3   4         0            1  ...           0           1         MEMORY\n",
              "4   5         1            1  ...           1           0  NETWORK_DELAY\n",
              "\n",
              "[5 rows x 9 columns]"
            ]
          },
          "metadata": {
            "tags": []
          },
          "execution_count": 2
        }
      ]
    },
    {
      "cell_type": "markdown",
      "metadata": {
        "id": "yl-0SPmMqZ4U"
      },
      "source": [
        "### Convert  data\n",
        "\n",
        "Input data needs to be converted to formats that can be consumed by ML algorithms"
      ]
    },
    {
      "cell_type": "code",
      "metadata": {
        "colab": {
          "base_uri": "https://localhost:8080/"
        },
        "id": "QAZGUpgbqZ4V",
        "outputId": "e31e82a9-5ad2-4bfe-dcc9-beedda25b6b6"
      },
      "source": [
        "from sklearn import preprocessing\n",
        "\n",
        "label_encoder = preprocessing.LabelEncoder()\n",
        "symptom_data['ROOT_CAUSE'] = label_encoder.fit_transform(\n",
        "                                symptom_data['ROOT_CAUSE'])\n",
        "\n",
        "symptom_data['ROOT_CAUSE']"
      ],
      "execution_count": 10,
      "outputs": [
        {
          "output_type": "execute_result",
          "data": {
            "text/plain": [
              "0      1\n",
              "1      1\n",
              "2      1\n",
              "3      1\n",
              "4      2\n",
              "      ..\n",
              "995    0\n",
              "996    2\n",
              "997    1\n",
              "998    2\n",
              "999    0\n",
              "Name: ROOT_CAUSE, Length: 1000, dtype: int64"
            ]
          },
          "metadata": {
            "tags": []
          },
          "execution_count": 10
        }
      ]
    },
    {
      "cell_type": "code",
      "metadata": {
        "colab": {
          "base_uri": "https://localhost:8080/"
        },
        "id": "1V2PvTVfqsPp",
        "outputId": "533a9185-bf90-4f36-f90d-2b3727af5746"
      },
      "source": [
        "#Convert Pandas DataFrame to a numpy vector\n",
        "np_symptom = symptom_data.to_numpy().astype(float)\n",
        "\n",
        "np_symptom"
      ],
      "execution_count": 4,
      "outputs": [
        {
          "output_type": "execute_result",
          "data": {
            "text/plain": [
              "array([[   1.,    0.,    0., ...,    0.,    1.,    1.],\n",
              "       [   2.,    0.,    0., ...,    0.,    1.,    1.],\n",
              "       [   3.,    0.,    1., ...,    1.,    1.,    1.],\n",
              "       ...,\n",
              "       [ 998.,    1.,    1., ...,    0.,    0.,    1.],\n",
              "       [ 999.,    0.,    1., ...,    0.,    0.,    2.],\n",
              "       [1000.,    1.,    0., ...,    1.,    0.,    0.]])"
            ]
          },
          "metadata": {
            "tags": []
          },
          "execution_count": 4
        }
      ]
    },
    {
      "cell_type": "code",
      "metadata": {
        "colab": {
          "base_uri": "https://localhost:8080/"
        },
        "id": "naZEDTQMq0WN",
        "outputId": "48190baf-c9c0-446a-fd2e-594eeb853d46"
      },
      "source": [
        "#Extract the feature variables (X)\n",
        "X_train = np_symptom[:,1:8]\n",
        "\n",
        "X_train"
      ],
      "execution_count": 5,
      "outputs": [
        {
          "output_type": "execute_result",
          "data": {
            "text/plain": [
              "array([[0., 0., 0., ..., 1., 0., 1.],\n",
              "       [0., 0., 0., ..., 0., 0., 1.],\n",
              "       [0., 1., 1., ..., 0., 1., 1.],\n",
              "       ...,\n",
              "       [1., 1., 1., ..., 0., 0., 0.],\n",
              "       [0., 1., 1., ..., 1., 0., 0.],\n",
              "       [1., 0., 0., ..., 1., 1., 0.]])"
            ]
          },
          "metadata": {
            "tags": []
          },
          "execution_count": 5
        }
      ]
    },
    {
      "cell_type": "code",
      "metadata": {
        "colab": {
          "base_uri": "https://localhost:8080/"
        },
        "id": "qhBdwJ8Zq-ut",
        "outputId": "c005e7f8-e933-434c-9238-1939c5766bda"
      },
      "source": [
        "#Extract the target variable (Y), convert to one-hot-encoding\n",
        "Y_train=np_symptom[:,8]\n",
        "Y_train = tf.keras.utils.to_categorical(Y_train,3)\n",
        "Y_train\n"
      ],
      "execution_count": 9,
      "outputs": [
        {
          "output_type": "execute_result",
          "data": {
            "text/plain": [
              "array([[0., 1., 0.],\n",
              "       [0., 1., 0.],\n",
              "       [0., 1., 0.],\n",
              "       ...,\n",
              "       [0., 1., 0.],\n",
              "       [0., 0., 1.],\n",
              "       [1., 0., 0.]], dtype=float32)"
            ]
          },
          "metadata": {
            "tags": []
          },
          "execution_count": 9
        }
      ]
    },
    {
      "cell_type": "code",
      "metadata": {
        "colab": {
          "base_uri": "https://localhost:8080/"
        },
        "id": "6AYBfpXzrrWG",
        "outputId": "50d74045-1023-422d-a4b4-858a412b93c5"
      },
      "source": [
        "print(\"Shape of feature variables :\", X_train.shape)\n",
        "print(\"Shape of target variable :\",Y_train.shape)"
      ],
      "execution_count": 11,
      "outputs": [
        {
          "output_type": "stream",
          "text": [
            "Shape of feature variables : (1000, 7)\n",
            "Shape of target variable : (1000, 3)\n"
          ],
          "name": "stdout"
        }
      ]
    },
    {
      "cell_type": "markdown",
      "metadata": {
        "id": "XtXQ5Kz8qZ4W"
      },
      "source": [
        "## 02.05. Building the Model with Keras"
      ]
    },
    {
      "cell_type": "code",
      "metadata": {
        "colab": {
          "base_uri": "https://localhost:8080/"
        },
        "id": "nh_nTpEasSdx",
        "outputId": "89f76aef-c346-4eba-81e1-ce4947360a94"
      },
      "source": [
        "len(label_encoder.classes_)"
      ],
      "execution_count": 14,
      "outputs": [
        {
          "output_type": "execute_result",
          "data": {
            "text/plain": [
              "3"
            ]
          },
          "metadata": {
            "tags": []
          },
          "execution_count": 14
        }
      ]
    },
    {
      "cell_type": "code",
      "metadata": {
        "colab": {
          "base_uri": "https://localhost:8080/"
        },
        "id": "YfgOEYylqZ4W",
        "outputId": "d6328339-98b7-4ca2-9f35-57f7c701b7e3"
      },
      "source": [
        "from tensorflow import keras\n",
        "from tensorflow.keras import optimizers\n",
        "from tensorflow.keras.regularizers import l2\n",
        "\n",
        "#Setup Training Parameters\n",
        "EPOCHS=20\n",
        "BATCH_SIZE=100\n",
        "VERBOSE=1\n",
        "OUTPUT_CLASSES=len(label_encoder.classes_)\n",
        "N_HIDDEN=128\n",
        "VALIDATION_SPLIT=0.2\n",
        "\n",
        "#Create a Keras sequential model\n",
        "model = tf.keras.models.Sequential()\n",
        "#Add a Dense Layer\n",
        "model.add(keras.layers.Dense(N_HIDDEN,\n",
        "                             input_shape=(7,),\n",
        "                              name='Dense-Layer-1',\n",
        "                              activation='relu'))\n",
        "\n",
        "#Add a second dense layer\n",
        "model.add(keras.layers.Dense(N_HIDDEN,\n",
        "                              name='Dense-Layer-2',\n",
        "                              activation='relu'))\n",
        "\n",
        "#Add a softmax layer for categorial prediction\n",
        "model.add(keras.layers.Dense(OUTPUT_CLASSES,\n",
        "                             name='Final',\n",
        "                             activation='softmax'))\n",
        "\n",
        "#Compile the model, using Adam optimizer\n",
        "model.compile(optimizer='adam',\n",
        "              loss='categorical_crossentropy',\n",
        "              metrics=['accuracy'])\n",
        "\n",
        "#Build the model\n",
        "model.fit(X_train,\n",
        "          Y_train,\n",
        "          batch_size=BATCH_SIZE,\n",
        "          epochs=EPOCHS,\n",
        "          verbose=VERBOSE,\n",
        "          validation_split=VALIDATION_SPLIT)\n",
        "\n",
        "model.summary()"
      ],
      "execution_count": 12,
      "outputs": [
        {
          "output_type": "stream",
          "text": [
            "Epoch 1/20\n",
            "8/8 [==============================] - 1s 26ms/step - loss: 1.0844 - accuracy: 0.4638 - val_loss: 0.9814 - val_accuracy: 0.7900\n",
            "Epoch 2/20\n",
            "8/8 [==============================] - 0s 4ms/step - loss: 0.9099 - accuracy: 0.7900 - val_loss: 0.8590 - val_accuracy: 0.7800\n",
            "Epoch 3/20\n",
            "8/8 [==============================] - 0s 4ms/step - loss: 0.7577 - accuracy: 0.7875 - val_loss: 0.7300 - val_accuracy: 0.7800\n",
            "Epoch 4/20\n",
            "8/8 [==============================] - 0s 4ms/step - loss: 0.6249 - accuracy: 0.8050 - val_loss: 0.6275 - val_accuracy: 0.7900\n",
            "Epoch 5/20\n",
            "8/8 [==============================] - 0s 4ms/step - loss: 0.5308 - accuracy: 0.8112 - val_loss: 0.5674 - val_accuracy: 0.7800\n",
            "Epoch 6/20\n",
            "8/8 [==============================] - 0s 4ms/step - loss: 0.4751 - accuracy: 0.8213 - val_loss: 0.5458 - val_accuracy: 0.8000\n",
            "Epoch 7/20\n",
            "8/8 [==============================] - 0s 4ms/step - loss: 0.4456 - accuracy: 0.8338 - val_loss: 0.5308 - val_accuracy: 0.8100\n",
            "Epoch 8/20\n",
            "8/8 [==============================] - 0s 7ms/step - loss: 0.4341 - accuracy: 0.8388 - val_loss: 0.5289 - val_accuracy: 0.8000\n",
            "Epoch 9/20\n",
            "8/8 [==============================] - 0s 5ms/step - loss: 0.4263 - accuracy: 0.8450 - val_loss: 0.5272 - val_accuracy: 0.8200\n",
            "Epoch 10/20\n",
            "8/8 [==============================] - 0s 4ms/step - loss: 0.4203 - accuracy: 0.8388 - val_loss: 0.5237 - val_accuracy: 0.8200\n",
            "Epoch 11/20\n",
            "8/8 [==============================] - 0s 5ms/step - loss: 0.4125 - accuracy: 0.8550 - val_loss: 0.5160 - val_accuracy: 0.8200\n",
            "Epoch 12/20\n",
            "8/8 [==============================] - 0s 4ms/step - loss: 0.4071 - accuracy: 0.8575 - val_loss: 0.5138 - val_accuracy: 0.8200\n",
            "Epoch 13/20\n",
            "8/8 [==============================] - 0s 4ms/step - loss: 0.4029 - accuracy: 0.8537 - val_loss: 0.5165 - val_accuracy: 0.8200\n",
            "Epoch 14/20\n",
            "8/8 [==============================] - 0s 4ms/step - loss: 0.3986 - accuracy: 0.8600 - val_loss: 0.5099 - val_accuracy: 0.8300\n",
            "Epoch 15/20\n",
            "8/8 [==============================] - 0s 4ms/step - loss: 0.3933 - accuracy: 0.8562 - val_loss: 0.5042 - val_accuracy: 0.8200\n",
            "Epoch 16/20\n",
            "8/8 [==============================] - 0s 5ms/step - loss: 0.3922 - accuracy: 0.8537 - val_loss: 0.5143 - val_accuracy: 0.8300\n",
            "Epoch 17/20\n",
            "8/8 [==============================] - 0s 5ms/step - loss: 0.3878 - accuracy: 0.8575 - val_loss: 0.5014 - val_accuracy: 0.8000\n",
            "Epoch 18/20\n",
            "8/8 [==============================] - 0s 4ms/step - loss: 0.3821 - accuracy: 0.8550 - val_loss: 0.5072 - val_accuracy: 0.8000\n",
            "Epoch 19/20\n",
            "8/8 [==============================] - 0s 4ms/step - loss: 0.3768 - accuracy: 0.8537 - val_loss: 0.5040 - val_accuracy: 0.8100\n",
            "Epoch 20/20\n",
            "8/8 [==============================] - 0s 4ms/step - loss: 0.3755 - accuracy: 0.8675 - val_loss: 0.5038 - val_accuracy: 0.8100\n",
            "Model: \"sequential\"\n",
            "_________________________________________________________________\n",
            "Layer (type)                 Output Shape              Param #   \n",
            "=================================================================\n",
            "Dense-Layer-1 (Dense)        (None, 128)               1024      \n",
            "_________________________________________________________________\n",
            "Dense-Layer-2 (Dense)        (None, 128)               16512     \n",
            "_________________________________________________________________\n",
            "Final (Dense)                (None, 3)                 387       \n",
            "=================================================================\n",
            "Total params: 17,923\n",
            "Trainable params: 17,923\n",
            "Non-trainable params: 0\n",
            "_________________________________________________________________\n"
          ],
          "name": "stdout"
        }
      ]
    },
    {
      "cell_type": "markdown",
      "metadata": {
        "id": "3tV2fxQKqZ4X"
      },
      "source": [
        "## 02.06. Predicting Root Causes"
      ]
    },
    {
      "cell_type": "code",
      "metadata": {
        "id": "N_QcMzEdqZ4Y",
        "outputId": "7b9f9eed-ee8a-4e65-ed04-2539b4feafd7"
      },
      "source": [
        "#Pass individual flags to Predict the root cause\n",
        "CPU_LOAD=1\n",
        "MEMORY_LOAD=0\n",
        "DELAY=0\n",
        "ERROR_1000=0\n",
        "ERROR_1001=1\n",
        "ERROR_1002=1\n",
        "ERROR_1003=0\n",
        "\n",
        "prediction=model.predict_classes(\n",
        "    [[CPU_LOAD,MEMORY_LOAD,DELAY,\n",
        "      ERROR_1000,ERROR_1001,ERROR_1002,ERROR_1003]])\n",
        "\n",
        "print(label_encoder.inverse_transform(prediction))"
      ],
      "execution_count": null,
      "outputs": [
        {
          "output_type": "stream",
          "text": [
            "['DATABASE_ISSUE']\n"
          ],
          "name": "stdout"
        }
      ]
    },
    {
      "cell_type": "code",
      "metadata": {
        "id": "vzNJqO3uqZ4Y",
        "outputId": "d4ea6c47-0422-4744-f569-d052926f954d"
      },
      "source": [
        "#Predicting as a Batch\n",
        "print(label_encoder.inverse_transform(\n",
        "        model.predict_classes([[1,0,0,0,1,1,0],\n",
        "                                [0,1,1,1,0,0,0],\n",
        "                                [1,1,0,1,1,0,1],\n",
        "                                [0,0,0,0,0,1,0],\n",
        "                                [1,0,1,0,1,1,1]])))"
      ],
      "execution_count": null,
      "outputs": [
        {
          "output_type": "stream",
          "text": [
            "['DATABASE_ISSUE' 'NETWORK_DELAY' 'MEMORY' 'DATABASE_ISSUE'\n",
            " 'DATABASE_ISSUE']\n"
          ],
          "name": "stdout"
        }
      ]
    },
    {
      "cell_type": "code",
      "metadata": {
        "id": "rfkDaZ40qZ4Y"
      },
      "source": [
        ""
      ],
      "execution_count": null,
      "outputs": []
    }
  ]
}